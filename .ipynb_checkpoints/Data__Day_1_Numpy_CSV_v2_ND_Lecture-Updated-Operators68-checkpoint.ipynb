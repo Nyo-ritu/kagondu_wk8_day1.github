{
 "cells": [
  {
   "cell_type": "markdown",
   "metadata": {},
   "source": [
    "# Data Analysis Numpy & CSV's"
   ]
  },
  {
   "cell_type": "markdown",
   "metadata": {},
   "source": [
    "## Tasks Today:\n",
    "\n",
    "1) <b>Numpy</b> <br>\n",
    " &nbsp;&nbsp;&nbsp;&nbsp; a) Python List Comparison <br>\n",
    " &nbsp;&nbsp;&nbsp;&nbsp; b) In-Class Exercise #1 <br>\n",
    " &nbsp;&nbsp;&nbsp;&nbsp; c) Importing <br>\n",
    " &nbsp;&nbsp;&nbsp;&nbsp; d) Creating an NDArray <br>\n",
    " &nbsp;&nbsp;&nbsp;&nbsp;&nbsp;&nbsp;&nbsp;&nbsp; - np.array() <br>\n",
    " &nbsp;&nbsp;&nbsp;&nbsp;&nbsp;&nbsp;&nbsp;&nbsp; - np.zeros() <br>\n",
    " &nbsp;&nbsp;&nbsp;&nbsp;&nbsp;&nbsp;&nbsp;&nbsp; - np.ones() <br>\n",
    " &nbsp;&nbsp;&nbsp;&nbsp;&nbsp;&nbsp;&nbsp;&nbsp; - np.arange() <br>\n",
    " &nbsp;&nbsp;&nbsp;&nbsp;&nbsp;&nbsp;&nbsp;&nbsp; - Making Lists into NDArrays <br>\n",
    " &nbsp;&nbsp;&nbsp;&nbsp; e) Performing Calculations on NDArrays <br>\n",
    " &nbsp;&nbsp;&nbsp;&nbsp;&nbsp;&nbsp;&nbsp;&nbsp; - Summation <br>\n",
    " &nbsp;&nbsp;&nbsp;&nbsp;&nbsp;&nbsp;&nbsp;&nbsp; - Difference <br>\n",
    " &nbsp;&nbsp;&nbsp;&nbsp;&nbsp;&nbsp;&nbsp;&nbsp; - Multiplication <br>\n",
    " &nbsp;&nbsp;&nbsp;&nbsp;&nbsp;&nbsp;&nbsp;&nbsp; - Division <br>\n",
    " &nbsp;&nbsp;&nbsp;&nbsp; f) Numpy Subsetting <br>\n",
    " &nbsp;&nbsp;&nbsp;&nbsp; g) Multi-dimensional Arrays <br>\n",
    " &nbsp;&nbsp;&nbsp;&nbsp; h) Indexing NDArrays <br>\n",
    " &nbsp;&nbsp;&nbsp;&nbsp; i) Checking NDArray Type <br>\n",
    " &nbsp;&nbsp;&nbsp;&nbsp; j) Altering NDArray Type <br>\n",
    " &nbsp;&nbsp;&nbsp;&nbsp; k) Checking the Shape <br>\n",
    " &nbsp;&nbsp;&nbsp;&nbsp; l) Altering the Shape <br>\n",
    " &nbsp;&nbsp;&nbsp;&nbsp; m) In-Class Exercise #2 <br>\n",
    " &nbsp;&nbsp;&nbsp;&nbsp; n) Complex Indexing & Assigning <br>\n",
    " &nbsp;&nbsp;&nbsp;&nbsp; o) Elementwise Multplication <br>\n",
    " &nbsp;&nbsp;&nbsp;&nbsp; p) np.where() <br>\n",
    " &nbsp;&nbsp;&nbsp;&nbsp; q) Random Sampling <br>\n",
    "\n",
    "2) <b>Working With CSV's</b> <br>\n",
    " &nbsp;&nbsp;&nbsp;&nbsp; a) Imports <br>\n",
    " &nbsp;&nbsp;&nbsp;&nbsp; b) Reading a CSV <br>\n",
    " &nbsp;&nbsp;&nbsp;&nbsp; c) Loading a CSV's Data <br>\n",
    " &nbsp;&nbsp;&nbsp;&nbsp; d) Checking Number of Records <br>\n",
    " \n",
    "3) <b>Exercises</b> <br>\n",
    " &nbsp;&nbsp;&nbsp;&nbsp; a) #1 - Calculate BMI with NDArrays <br>\n",
    " &nbsp;&nbsp;&nbsp;&nbsp; b) #2 - Find the Average Sum of Marathon Runners <br>\n",
    " &nbsp;&nbsp;&nbsp;&nbsp; c) #3 - Random Matrix Function <br>\n",
    " &nbsp;&nbsp;&nbsp;&nbsp; d) #4 - Comparing Boston Red Sox Hitting Numbers <br>"
   ]
  },
  {
   "cell_type": "markdown",
   "metadata": {},
   "source": [
    "## Numpy <br>\n",
    "\n",
    "<p>NumPy is a library for the Python programming language, adding support for large, multi-dimensional arrays and matrices, along with a large collection of high-level mathematical functions to operate on these arrays.</p>\n",
    "<ul>\n",
    "    <li>Shape = Rows & Columns</li>\n",
    "    <li>Matrix = Entire Array</li>\n",
    "    <li>Vector = Variables to be applied (same vector as the one used in physics)</li>\n",
    "    <li>Array = Similar to lists</li>\n",
    "</ul>"
   ]
  },
  {
   "cell_type": "markdown",
   "metadata": {},
   "source": [
    "#### Python List Comparison"
   ]
  },
  {
   "cell_type": "markdown",
   "metadata": {},
   "source": [
    "<p>Lists are flexible, dynamic python objects that do their job quite well. But they do not support some mathematical operations in an intuitive way. Consider the summation of two lists, $l_1$ and $l_2$</p>"
   ]
  },
  {
   "cell_type": "code",
   "execution_count": 3,
   "metadata": {},
   "outputs": [
    {
     "name": "stdout",
     "output_type": "stream",
     "text": [
      "Sum of [1, 2, 3] + [4, 5, 6] using python operators in one line [1, 2, 3, 4, 5, 6]\n"
     ]
    }
   ],
   "source": [
    "# create two lists and sum both of them together (results may not be what you expect)\n",
    "l_1 = [1,2,3]\n",
    "l_2 = [4,5,6]\n",
    "\n",
    "print(f'Sum of {l_1} + {l_2} using python operators in one line {l_1 + l_2}')\n",
    "#print(f'Sum of {l_1} - {l_2} using python operators in one line {l_1 - l_2}')"
   ]
  },
  {
   "cell_type": "markdown",
   "metadata": {},
   "source": [
    "<p>If we wanted to sum lists elementwise, we could write our own function that does the job entirely within the framework of python</p>"
   ]
  },
  {
   "cell_type": "markdown",
   "metadata": {},
   "source": [
    "#### In-Class Exercise #1 - Write a function that sums the indexes of two lists <br>\n",
    "<p>Ex: [2, 3, 4] + [1, 5, 2] = [3, 8, 6]</p>"
   ]
  },
  {
   "cell_type": "code",
   "execution_count": 7,
   "metadata": {},
   "outputs": [
    {
     "data": {
      "text/plain": [
       "[3, 8, 6]"
      ]
     },
     "execution_count": 7,
     "metadata": {},
     "output_type": "execute_result"
    }
   ],
   "source": [
    "# output = [3,8,6]\n",
    "\n",
    "def sumlist(list1,list2):\n",
    "    final = []\n",
    "    i = 0\n",
    "    while i < len(list1):\n",
    "        final.append(list1[i] + list2[i])\n",
    "        i += 1\n",
    "    return final\n",
    "sumlist([2,3,4], [1,5,2])\n",
    "\n",
    "#OR\n",
    "\n",
    "def listSum(list1, list2):\n",
    "    list3 = []\n",
    "    for i in range(len(list1)):\n",
    "        list3.append(list1[i] + list2[i])\n",
    "    return list3\n",
    "listSum([2,3,4], [1,5,2])"
   ]
  },
  {
   "cell_type": "markdown",
   "metadata": {},
   "source": [
    "#### Importing"
   ]
  },
  {
   "cell_type": "code",
   "execution_count": 9,
   "metadata": {},
   "outputs": [],
   "source": [
    "# always import as np, standard across all of data science/analysis\n",
    "#!pip install numpy\n",
    "import numpy as np"
   ]
  },
  {
   "cell_type": "markdown",
   "metadata": {},
   "source": [
    "#### Creating an NDArray <br>\n",
    "<p>NumPy is based around a class called the $\\textit{NDArray}$, which is a flexible vector / matrix class that implements the intuitive matrix and vector arithmatic lacking in basic Python. Let's start by creating some NDArrays:</p>"
   ]
  },
  {
   "cell_type": "markdown",
   "metadata": {},
   "source": [
    "###### - np.array()"
   ]
  },
  {
   "cell_type": "code",
   "execution_count": 12,
   "metadata": {},
   "outputs": [
    {
     "name": "stdout",
     "output_type": "stream",
     "text": [
      "[0, 1, 2, 3]\n",
      "[0 1 2 3]\n"
     ]
    },
    {
     "data": {
      "text/plain": [
       "numpy.ndarray"
      ]
     },
     "execution_count": 12,
     "metadata": {},
     "output_type": "execute_result"
    }
   ],
   "source": [
    "arr_1 = [0,1,2,3]\n",
    "\n",
    "new_arr = np.array(arr_1)\n",
    "\n",
    "print(arr_1)\n",
    "print(new_arr)\n",
    "type(new_arr)"
   ]
  },
  {
   "cell_type": "markdown",
   "metadata": {},
   "source": [
    "###### - np.zeros()"
   ]
  },
  {
   "cell_type": "code",
   "execution_count": 13,
   "metadata": {},
   "outputs": [
    {
     "data": {
      "text/plain": [
       "array([[0., 0., 0.],\n",
       "       [0., 0., 0.],\n",
       "       [0., 0., 0.]])"
      ]
     },
     "execution_count": 13,
     "metadata": {},
     "output_type": "execute_result"
    }
   ],
   "source": [
    "# Shape -- np.zeros() has a parameter of \"shape\" that must be given\n",
    "arr_zeros = np.zeros((3,3))\n",
    "arr_zeros\n"
   ]
  },
  {
   "cell_type": "markdown",
   "metadata": {},
   "source": [
    "###### - np.ones()"
   ]
  },
  {
   "cell_type": "code",
   "execution_count": 17,
   "metadata": {},
   "outputs": [
    {
     "data": {
      "text/plain": [
       "array([[1., 1., 1.],\n",
       "       [1., 1., 1.],\n",
       "       [1., 1., 1.]])"
      ]
     },
     "execution_count": 17,
     "metadata": {},
     "output_type": "execute_result"
    }
   ],
   "source": [
    "arr_ones = np.ones((3,3), int)\n",
    "arr_ones_flt = np.ones((3,3))\n",
    "arr_ones\n",
    "arr_ones_flt\n",
    "\n",
    "# notice no dots after the numbers, because we specified the datatype to be integer"
   ]
  },
  {
   "cell_type": "markdown",
   "metadata": {},
   "source": [
    "###### - np.arange()"
   ]
  },
  {
   "cell_type": "code",
   "execution_count": 19,
   "metadata": {},
   "outputs": [
    {
     "data": {
      "text/plain": [
       "array([1, 2, 3, 4, 5, 6, 7, 8, 9])"
      ]
     },
     "execution_count": 19,
     "metadata": {},
     "output_type": "execute_result"
    }
   ],
   "source": [
    "arr_range= np.arange(1,10)\n",
    "arr_range"
   ]
  },
  {
   "cell_type": "markdown",
   "metadata": {},
   "source": [
    "###### - Making Lists into NDArrays"
   ]
  },
  {
   "cell_type": "code",
   "execution_count": 21,
   "metadata": {},
   "outputs": [
    {
     "data": {
      "text/plain": [
       "array([99, 14,  7])"
      ]
     },
     "execution_count": 21,
     "metadata": {},
     "output_type": "execute_result"
    }
   ],
   "source": [
    "some_list = [99,14,7]\n",
    "numpy_array = np.array(some_list)\n",
    "numpy_array\n",
    "\n",
    "np_arr_2 = np.array([99,14,7])\n",
    "np_arr_2"
   ]
  },
  {
   "cell_type": "markdown",
   "metadata": {},
   "source": [
    "\n",
    "#### Performing Calculations on NDArrays\n"
   ]
  },
  {
   "cell_type": "markdown",
   "metadata": {},
   "source": [
    "###### - Summation"
   ]
  },
  {
   "cell_type": "code",
   "execution_count": 24,
   "metadata": {
    "scrolled": true
   },
   "outputs": [
    {
     "data": {
      "text/plain": [
       "array([15, 30, 45, 60, 75, 90])"
      ]
     },
     "execution_count": 24,
     "metadata": {},
     "output_type": "execute_result"
    }
   ],
   "source": [
    "np_list = np.array([5,10,15,20,25,30])\n",
    "np_list_2 = np.array([10,20,30,40,50,60])\n",
    "\n",
    "result_sum = np_list + np_list_2\n",
    "result_sum"
   ]
  },
  {
   "cell_type": "markdown",
   "metadata": {},
   "source": [
    "###### - Difference"
   ]
  },
  {
   "cell_type": "code",
   "execution_count": 25,
   "metadata": {},
   "outputs": [
    {
     "data": {
      "text/plain": [
       "array([ -5, -10, -15, -20, -25, -30])"
      ]
     },
     "execution_count": 25,
     "metadata": {},
     "output_type": "execute_result"
    }
   ],
   "source": [
    "result_diff = np_list - np_list_2\n",
    "result_diff"
   ]
  },
  {
   "cell_type": "markdown",
   "metadata": {},
   "source": [
    "###### - Multiplication"
   ]
  },
  {
   "cell_type": "code",
   "execution_count": 26,
   "metadata": {},
   "outputs": [
    {
     "data": {
      "text/plain": [
       "array([  50,  200,  450,  800, 1250, 1800])"
      ]
     },
     "execution_count": 26,
     "metadata": {},
     "output_type": "execute_result"
    }
   ],
   "source": [
    "result_prod = np_list * np_list_2\n",
    "result_prod"
   ]
  },
  {
   "cell_type": "markdown",
   "metadata": {},
   "source": [
    "###### - Division"
   ]
  },
  {
   "cell_type": "code",
   "execution_count": 27,
   "metadata": {},
   "outputs": [
    {
     "data": {
      "text/plain": [
       "array([0.5, 0.5, 0.5, 0.5, 0.5, 0.5])"
      ]
     },
     "execution_count": 27,
     "metadata": {},
     "output_type": "execute_result"
    }
   ],
   "source": [
    "result_div = np_list / np_list_2\n",
    "result_div"
   ]
  },
  {
   "cell_type": "markdown",
   "metadata": {},
   "source": [
    "#### Modulo"
   ]
  },
  {
   "cell_type": "code",
   "execution_count": 31,
   "metadata": {},
   "outputs": [
    {
     "data": {
      "text/plain": [
       "dtype('int32')"
      ]
     },
     "execution_count": 31,
     "metadata": {},
     "output_type": "execute_result"
    }
   ],
   "source": [
    "result_mod = np_list % np_list_2\n",
    "result_mod\n",
    "result_mod.dtype"
   ]
  },
  {
   "cell_type": "markdown",
   "metadata": {},
   "source": [
    "#### Floor Division"
   ]
  },
  {
   "cell_type": "code",
   "execution_count": 40,
   "metadata": {},
   "outputs": [
    {
     "data": {
      "text/plain": [
       "array([0, 0, 0, 0, 0, 0], dtype=int32)"
      ]
     },
     "execution_count": 40,
     "metadata": {},
     "output_type": "execute_result"
    }
   ],
   "source": [
    "result_floor = np_list // np_list_2\n",
    "result_floor\n",
    "\n"
   ]
  },
  {
   "cell_type": "markdown",
   "metadata": {},
   "source": [
    "#### Numpy Subsetting"
   ]
  },
  {
   "cell_type": "code",
   "execution_count": 58,
   "metadata": {},
   "outputs": [
    {
     "name": "stdout",
     "output_type": "stream",
     "text": [
      "[  50  200  450  800 1250 1800]\n",
      "[ True  True  True  True False False]\n",
      "['Bob']\n",
      "Bob\n",
      "Barb\n",
      "[1 2 3 4]\n"
     ]
    },
    {
     "data": {
      "text/plain": [
       "array(['Bob', 'Barb'], dtype='<U4')"
      ]
     },
     "execution_count": 58,
     "metadata": {},
     "output_type": "execute_result"
    }
   ],
   "source": [
    "print(result_prod)\n",
    "print(result_prod <= 800)\n",
    "\n",
    "\n",
    "\n",
    "test_ndStrings = np.array(['Bob','Mark','Angelica','Barb'])\n",
    "print(test_ndStrings[test_ndStrings == 'Bob'])\n",
    "for name in test_ndStrings:\n",
    "    if name[0] == 'B':\n",
    "        print(name)\n",
    "\n",
    "\n",
    "\n",
    "\n",
    "test_nums = np.array([1,2,3,4,5])\n",
    "new_nums = test_nums[test_nums < 5]\n",
    "print(new_nums)\n",
    "\n",
    "\n",
    "\n",
    "# conditional check, returns true or false\n",
    "# print(arr1 < 2)\n",
    "# print(arr2 >= 2)\n",
    "\n",
    "# conditional check, that returns the elements that meet the given condition\n",
    "np.array([name for name in test_ndStrings if name[0] == 'B'])"
   ]
  },
  {
   "cell_type": "markdown",
   "metadata": {},
   "source": [
    "#### Multi-dimensional Arrays <br>\n",
    "<p>NumPy seamlessly supports multidimensional arrays and matrices of arbitrary dimension without nesting NDArrays. NDArrays themselves are flexible and extensible and may be defined with such dimensions, with a rich API of common functions to facilitate their use. Let's start by building a two dimensional 3x3 matrix by conversion from a nested group of core python lists $M = [l_0, l_1, l_2]$:</p>"
   ]
  },
  {
   "cell_type": "code",
   "execution_count": 65,
   "metadata": {},
   "outputs": [
    {
     "name": "stdout",
     "output_type": "stream",
     "text": [
      "6\n"
     ]
    },
    {
     "data": {
      "text/plain": [
       "array([[0, 1, 2],\n",
       "       [3, 4, 5],\n",
       "       [6, 7, 8]])"
      ]
     },
     "execution_count": 65,
     "metadata": {},
     "output_type": "execute_result"
    }
   ],
   "source": [
    "aList = [0,1,2]\n",
    "bList = [3,4,5]\n",
    "cList = [6,7,8]\n",
    "\n",
    "# first step: convert lists into a Matrix\n",
    "M = [aList, bList, cList]\n",
    "M\n",
    "print(M[2][0])\n",
    "\n",
    "\n",
    "# second step: place Matrix inside NDArray\n",
    "ND_M = np.array(M)\n",
    "ND_M"
   ]
  },
  {
   "cell_type": "markdown",
   "metadata": {},
   "source": [
    "#### Indexing NDArrays <br>\n",
    "<p> Similar to lists within lists; however, the syntax looks more like C programming language.... It is [1, 2] to access the second row, third element.</p>"
   ]
  },
  {
   "cell_type": "code",
   "execution_count": 67,
   "metadata": {},
   "outputs": [
    {
     "data": {
      "text/plain": [
       "6"
      ]
     },
     "execution_count": 67,
     "metadata": {},
     "output_type": "execute_result"
    }
   ],
   "source": [
    "# in order to grab the 0th index from the 3rd row\n",
    "ND_M[2,0]"
   ]
  },
  {
   "cell_type": "markdown",
   "metadata": {},
   "source": [
    "#### Assigning Values in NDArrays"
   ]
  },
  {
   "cell_type": "code",
   "execution_count": 73,
   "metadata": {},
   "outputs": [
    {
     "data": {
      "text/plain": [
       "array([[0, 1, 2],\n",
       "       [3, 4, 5],\n",
       "       [8, 7, 8]])"
      ]
     },
     "execution_count": 73,
     "metadata": {},
     "output_type": "execute_result"
    }
   ],
   "source": [
    "# Changing / assigning value\n",
    "ND_M[2,0]=10\n",
    "ND_M\n",
    "\n",
    "ND_M[2,0]=8\n",
    "ND_M"
   ]
  },
  {
   "cell_type": "markdown",
   "metadata": {},
   "source": [
    "<p>Notice above how we ended up with a 1 in the target element's place. This is a data type issue. The .dtype() method is supported by all NDArrays, as well as the .astype() method for casting between data types:</p>"
   ]
  },
  {
   "cell_type": "markdown",
   "metadata": {},
   "source": [
    "#### Checking NDArray Type"
   ]
  },
  {
   "cell_type": "code",
   "execution_count": 74,
   "metadata": {},
   "outputs": [
    {
     "data": {
      "text/plain": [
       "dtype('int32')"
      ]
     },
     "execution_count": 74,
     "metadata": {},
     "output_type": "execute_result"
    }
   ],
   "source": [
    "# usind the .dtype() method\n",
    "nd_type = ND_M.dtype\n",
    "nd_type\n"
   ]
  },
  {
   "cell_type": "markdown",
   "metadata": {},
   "source": [
    "#### Altering NDArray Type"
   ]
  },
  {
   "cell_type": "code",
   "execution_count": 96,
   "metadata": {},
   "outputs": [
    {
     "name": "stdout",
     "output_type": "stream",
     "text": [
      "int32\n"
     ]
    },
    {
     "data": {
      "text/plain": [
       "dtype('float32')"
      ]
     },
     "execution_count": 96,
     "metadata": {},
     "output_type": "execute_result"
    }
   ],
   "source": [
    "print(nd_type)\n",
    "\n",
    "#creating new array and changing data type\n",
    "changed = ND_M.astype(np.float32)\n",
    "\n",
    "\n",
    "#dtype of new matrix is float 32\n",
    "changed.dtype\n"
   ]
  },
  {
   "cell_type": "code",
   "execution_count": null,
   "metadata": {},
   "outputs": [],
   "source": [
    "# Checking the Shape of the ND_M Numpy Array\n",
    "# Using the method .shape\n"
   ]
  },
  {
   "cell_type": "markdown",
   "metadata": {},
   "source": [
    "#### Checking the Shape <br>\n",
    "<p>The behavior and properties of an NDArray are often sensitively dependent on the $\\textit{shape}$ of the NDArray itself. The shape of an array can be found by calling the .shape method, which will return a tuple containing the array's dimensions:</p>"
   ]
  },
  {
   "cell_type": "code",
   "execution_count": 94,
   "metadata": {},
   "outputs": [
    {
     "data": {
      "text/plain": [
       "(3, 3)"
      ]
     },
     "execution_count": 94,
     "metadata": {},
     "output_type": "execute_result"
    }
   ],
   "source": [
    " # shape is always rows x columns\n",
    "# Checking the Shape of the ND_M Numpy Array\n",
    "# Using the method .shape\n",
    "\n",
    "# print(type(result_changed.shape))\n",
    "\n",
    "changed.shape\n",
    "ND_M.shape"
   ]
  },
  {
   "cell_type": "markdown",
   "metadata": {},
   "source": [
    "#### Altering the Shape <br>\n",
    "<p>As long as the number of elements remains fixed, we can reshape NDArrays at will:</p>"
   ]
  },
  {
   "cell_type": "code",
   "execution_count": 97,
   "metadata": {},
   "outputs": [
    {
     "name": "stdout",
     "output_type": "stream",
     "text": [
      "[[0. 1. 2.]\n",
      " [3. 4. 5.]\n",
      " [8. 7. 8.]]\n"
     ]
    },
    {
     "data": {
      "text/plain": [
       "array([[0.],\n",
       "       [1.],\n",
       "       [2.],\n",
       "       [3.],\n",
       "       [4.],\n",
       "       [5.],\n",
       "       [8.],\n",
       "       [7.],\n",
       "       [8.]], dtype=float32)"
      ]
     },
     "execution_count": 97,
     "metadata": {},
     "output_type": "execute_result"
    }
   ],
   "source": [
    "# Change the shape of the numpy array\n",
    "# Using the method .reshape()\n",
    "\n",
    "# The reshape should be a multiple of the original shape\n",
    "# Meaning we can have a shape of (1,9) or (9,1) or (3,3)\n",
    "\n",
    "# (9,1) == 9 rows , 1 column\n",
    "\n",
    "print(changed)\n",
    "\n",
    "#\n",
    "new = changed.reshape(9,1)\n",
    "new"
   ]
  },
  {
   "cell_type": "code",
   "execution_count": null,
   "metadata": {},
   "outputs": [],
   "source": [
    "# keep in mind that the shape numbers do matter, (9, 1) is different than (1, 9)\n"
   ]
  },
  {
   "cell_type": "markdown",
   "metadata": {},
   "source": [
    "#### In-Class Exercise #2 - Create a matrix of range 0 up to 16 and reshape it into a 4x4 matrice"
   ]
  },
  {
   "cell_type": "code",
   "execution_count": 103,
   "metadata": {},
   "outputs": [
    {
     "data": {
      "text/plain": [
       "array([[ 0,  1,  2,  3],\n",
       "       [ 4,  5,  6,  7],\n",
       "       [ 8,  9, 10, 11],\n",
       "       [12, 13, 14, 15]])"
      ]
     },
     "execution_count": 103,
     "metadata": {},
     "output_type": "execute_result"
    }
   ],
   "source": [
    "\"\"\"\n",
    "OUTPUT\n",
    "    array([[ 0,  1,  2,  3],\n",
    "       [ 4,  5,  6,  7],\n",
    "       [ 8,  9, 10, 11],\n",
    "       [12, 13, 14, 15]])\n",
    "\"\"\"\n",
    "ans = np.arange(16).reshape(4,4)\n",
    "ans\n"
   ]
  },
  {
   "cell_type": "markdown",
   "metadata": {},
   "source": [
    "#### Complex Indexing & Assinging"
   ]
  },
  {
   "cell_type": "code",
   "execution_count": 131,
   "metadata": {},
   "outputs": [
    {
     "name": "stdout",
     "output_type": "stream",
     "text": [
      "[[0. 0. 0. 0. 0. 0.]\n",
      " [0. 0. 0. 0. 0. 0.]\n",
      " [0. 0. 0. 0. 0. 0.]\n",
      " [0. 0. 0. 0. 0. 0.]\n",
      " [0. 0. 0. 0. 0. 0.]\n",
      " [0. 0. 0. 0. 0. 0.]]\n",
      "[[1. 0. 0. 0. 0. 0.]\n",
      " [1. 0. 0. 0. 0. 0.]\n",
      " [1. 0. 0. 0. 0. 0.]\n",
      " [1. 0. 0. 0. 0. 0.]\n",
      " [1. 0. 0. 0. 0. 0.]\n",
      " [1. 0. 0. 0. 0. 0.]]\n",
      "[[1. 0. 0. 0. 0. 0.]\n",
      " [1. 0. 0. 0. 0. 0.]\n",
      " [1. 0. 0. 0. 0. 0.]\n",
      " [5. 5. 5. 5. 5. 5.]\n",
      " [5. 5. 5. 5. 5. 5.]\n",
      " [1. 0. 0. 0. 0. 0.]]\n",
      "[[0. 0. 0. 0. 0. 0.]\n",
      " [0. 0. 0. 0. 0. 0.]\n",
      " [0. 0. 0. 0. 0. 0.]\n",
      " [0. 0. 0. 0. 0. 0.]\n",
      " [0. 0. 0. 0. 0. 0.]\n",
      " [0. 0. 0. 0. 0. 0.]]\n",
      "\n",
      " Assigning 2 to the second and third rows\n",
      "[[0. 2. 2. 0. 0. 0.]\n",
      " [0. 2. 2. 0. 0. 0.]\n",
      " [0. 2. 2. 0. 0. 0.]\n",
      " [0. 2. 2. 0. 0. 0.]\n",
      " [0. 2. 2. 0. 0. 0.]\n",
      " [0. 2. 2. 0. 0. 0.]]\n",
      "[0 1 2 3 4 5]\n",
      "[[0. 0. 0. 0. 0. 0.]\n",
      " [1. 0. 0. 0. 0. 0.]\n",
      " [2. 0. 0. 0. 0. 0.]\n",
      " [3. 0. 0. 0. 0. 0.]\n",
      " [4. 0. 0. 0. 0. 0.]\n",
      " [5. 0. 0. 0. 0. 0.]]\n"
     ]
    }
   ],
   "source": [
    "m2 = np.zeros((6,6))\n",
    "print(m2)\n",
    "\n",
    "# Set every first element in each row to 1\n",
    "m2[:,0]=1\n",
    "print(m2)\n",
    "\n",
    "# Set all elements in axis 3 to 5 (Excluding 5) to be equal to the number 5\n",
    "m2[3:5,:] = 5\n",
    "print(m2)\n",
    "\n",
    "# reset the matrix back to 0\n",
    "m2 = m2 * 0\n",
    "print(m2)\n",
    "\n",
    "# Set the second and third columns to a number == 2\n",
    "m2[:, 1:3] = 2\n",
    "print('\\n Assigning 2 to the second and third rows')\n",
    "print(m2)\n",
    "\n",
    "\n",
    "# Creating a vector in numpy\n",
    "x = np.arange(6)\n",
    "print(x)\n",
    "\n",
    "# Reset the Matrix to 0\n",
    "m2 = m2 * 0\n",
    "\n",
    "# Set the first row to that range of vector numbers we just created\n",
    "m2[:,0] = x\n",
    "print(m2)\n",
    "\n",
    "\n",
    "#adding a vector as the last row.\n",
    "# np.append(m2,[x],axis=0)\n",
    "#################\n",
    "# M[rows,columns]\n",
    "#################"
   ]
  },
  {
   "cell_type": "markdown",
   "metadata": {},
   "source": [
    "#### Elementwise Multiplication"
   ]
  },
  {
   "cell_type": "markdown",
   "metadata": {},
   "source": [
    "<p>As long as the shapes of NDArrays are 'compatible', they can be multiplied elementwise, broadcasted, used in inner products, and much much more. 'Compatible' in this context can mean compatible in the linear algebraic sense, i.e. for inner products and other matrix multiplication, or simply sharing a dimension in such a manner that broadcasting 'makes sense'. Here are some examples of this:</p>"
   ]
  },
  {
   "cell_type": "code",
   "execution_count": 132,
   "metadata": {},
   "outputs": [
    {
     "name": "stdout",
     "output_type": "stream",
     "text": [
      "[[0. 0. 0. 0. 0. 0.]\n",
      " [1. 0. 0. 0. 0. 0.]\n",
      " [2. 0. 0. 0. 0. 0.]\n",
      " [3. 0. 0. 0. 0. 0.]\n",
      " [4. 0. 0. 0. 0. 0.]\n",
      " [5. 0. 0. 0. 0. 0.]]\n",
      "[[0. 0. 0. 0. 0. 0.]\n",
      " [0. 0. 0. 0. 0. 0.]\n",
      " [0. 0. 0. 0. 0. 0.]\n",
      " [0. 0. 0. 0. 0. 0.]\n",
      " [0. 0. 0. 0. 0. 0.]\n",
      " [2. 2. 2. 2. 2. 2.]]\n",
      "[[ 0.  0.  0.  0.  0.  0.]\n",
      " [ 0.  0.  0.  0.  0.  0.]\n",
      " [ 0.  0.  0.  0.  0.  0.]\n",
      " [ 0.  0.  0.  0.  0.  0.]\n",
      " [ 0.  0.  0.  0.  0.  0.]\n",
      " [10.  0.  0.  0.  0.  0.]]\n"
     ]
    }
   ],
   "source": [
    "# Initialize a vector of range 6, then reset Matrix to zero and run vector multiplication on the matrix\n",
    "v = m2[:,:] \n",
    "v = v * 0   # or v *=0\n",
    "print(m2)\n",
    "\n",
    "# changing bottom row to be full of 2's\n",
    "\n",
    "v[5,:]  = 2\n",
    "print(v)\n",
    "\n",
    "new_matrix = m2 * v\n",
    "print(new_matrix)\n",
    "\n",
    "# Reset the Matrix to 0\n"
   ]
  },
  {
   "cell_type": "markdown",
   "metadata": {},
   "source": [
    "#### np.where() <br>\n",
    "<p>If statement within NDArrays that allows you to run conditionals on the entire array</p>"
   ]
  },
  {
   "cell_type": "code",
   "execution_count": 135,
   "metadata": {},
   "outputs": [
    {
     "name": "stdout",
     "output_type": "stream",
     "text": [
      "[400 500 600 700]\n",
      "(array([0, 1], dtype=int64),)\n"
     ]
    },
    {
     "data": {
      "text/plain": [
       "array([400, 500])"
      ]
     },
     "execution_count": 135,
     "metadata": {},
     "output_type": "execute_result"
    }
   ],
   "source": [
    "new_arr = np.array([400,500,600,700])\n",
    "print(new_arr)\n",
    "print(np.where(new_arr<600))\n",
    "\n",
    "# Transform Data based on boolean mask == True\n",
    "\n",
    "new_arr[np.where(new_arr < 600)] == 400\n",
    "\n",
    "#subsetting syntax\n",
    "new_arr[new_arr <600]"
   ]
  },
  {
   "cell_type": "markdown",
   "metadata": {},
   "source": [
    "#### Random Sampling <br>\n",
    "<p>NumPy provides machinery to work with random numbers - something often needed in a broad spectrum of data science applications.</p>"
   ]
  },
  {
   "cell_type": "code",
   "execution_count": 144,
   "metadata": {},
   "outputs": [
    {
     "name": "stdout",
     "output_type": "stream",
     "text": [
      "Here is a random number: 0.44193324426875324\n",
      "Here is a random number between 0 and 1 Million: 576255\n",
      "Here are 5 random numbers between 0 and 10: [2.31811306 9.15057877 2.15065499 0.15910663 8.49484706]\n",
      "Here is a 3x3 matrix with numbers between 0 and 10: \n",
      " [[2 7 6]\n",
      " [5 0 7]\n",
      " [2 6 6]]\n"
     ]
    }
   ],
   "source": [
    "# np.random.uniform()\n",
    "\n",
    "# A single call generates a single random number between 0 and 1\n",
    "\n",
    "print('Here is a random number: %s' % np.random.uniform())\n",
    "\n",
    "# You can also pass some parameters or bounds\n",
    "\n",
    "print('Here is a random number between 0 and 1 Million: %s' % np.random.randint(0, 1e6))\n",
    "\n",
    "# You can also generate a bunch of random numbers all at once\n",
    "\n",
    "print('Here are 5 random numbers between 0 and 10: %s' % np.random.uniform(0, 10, 5))\n",
    "\n",
    "# Even matrices with shapes as a parameter\n",
    "\n",
    "print('Here is a 3x3 matrix with numbers between 0 and 10: \\n %s' % np.random.randint(0, 10, (3, 3)))"
   ]
  },
  {
   "cell_type": "markdown",
   "metadata": {},
   "source": [
    "## Working With CSV's"
   ]
  },
  {
   "cell_type": "markdown",
   "metadata": {},
   "source": [
    "#### Imports"
   ]
  },
  {
   "cell_type": "code",
   "execution_count": 145,
   "metadata": {},
   "outputs": [],
   "source": [
    "import csv\n",
    "import numpy as np\n",
    "from datetime import datetime"
   ]
  },
  {
   "cell_type": "markdown",
   "metadata": {},
   "source": [
    "#### Reading a CSV"
   ]
  },
  {
   "cell_type": "code",
   "execution_count": 148,
   "metadata": {
    "scrolled": true
   },
   "outputs": [
    {
     "name": "stdout",
     "output_type": "stream",
     "text": [
      "<_csv.reader object at 0x0000026D5614B700>\n"
     ]
    },
    {
     "data": {
      "text/plain": [
       "[['12/30/1899 12:30:28 AM',\n",
       "  '12/30/1899 12:45:44 AM',\n",
       "  '12/30/1899 1:01:15 AM',\n",
       "  '12/30/1899 1:16:59 AM',\n",
       "  '12/30/1899 1:33:01 AM',\n",
       "  '12/30/1899 1:48:19 AM',\n",
       "  '12/30/1899 2:02:53 AM',\n",
       "  '12/30/1899 12:15:25 AM',\n",
       "  '24',\n",
       "  '11',\n",
       "  '7777',\n",
       "  'KEN',\n",
       "  '7777',\n",
       "  '',\n",
       "  'Keringet',\n",
       "  'KEN',\n",
       "  '1',\n",
       "  '1',\n",
       "  '12/30/1899 1:04:35 AM',\n",
       "  'M',\n",
       "  'Kirui, Geoffrey',\n",
       "  '1',\n",
       "  '12/30/1899 2:09:37 AM',\n",
       "  '1',\n",
       "  '12/30/1899 12:04:57 AM',\n",
       "  ''],\n",
       " ['12/30/1899 12:30:27 AM',\n",
       "  '12/30/1899 12:45:44 AM',\n",
       "  '12/30/1899 1:01:15 AM',\n",
       "  '12/30/1899 1:16:59 AM',\n",
       "  '12/30/1899 1:33:01 AM',\n",
       "  '12/30/1899 1:48:19 AM',\n",
       "  '12/30/1899 2:03:14 AM',\n",
       "  '12/30/1899 12:15:24 AM',\n",
       "  '30',\n",
       "  '17',\n",
       "  '7798',\n",
       "  'USA',\n",
       "  '7798',\n",
       "  '',\n",
       "  'Portland',\n",
       "  'USA',\n",
       "  '2',\n",
       "  '2',\n",
       "  '12/30/1899 1:04:35 AM',\n",
       "  'M',\n",
       "  'Rupp, Galen',\n",
       "  '1',\n",
       "  '12/30/1899 2:09:58 AM',\n",
       "  '2',\n",
       "  '12/30/1899 12:04:58 AM',\n",
       "  'OR'],\n",
       " ['12/30/1899 12:30:29 AM',\n",
       "  '12/30/1899 12:45:44 AM',\n",
       "  '12/30/1899 1:01:16 AM',\n",
       "  '12/30/1899 1:17:00 AM',\n",
       "  '12/30/1899 1:33:01 AM',\n",
       "  '12/30/1899 1:48:31 AM',\n",
       "  '12/30/1899 2:03:38 AM',\n",
       "  '12/30/1899 12:15:25 AM',\n",
       "  '25',\n",
       "  '23',\n",
       "  '7828',\n",
       "  'JPN',\n",
       "  '7828',\n",
       "  '',\n",
       "  'Machida-City',\n",
       "  'JPN',\n",
       "  '3',\n",
       "  '3',\n",
       "  '12/30/1899 1:04:36 AM',\n",
       "  'M',\n",
       "  'Osako, Suguru',\n",
       "  '1',\n",
       "  '12/30/1899 2:10:28 AM',\n",
       "  '3',\n",
       "  '12/30/1899 12:04:59 AM',\n",
       "  ''],\n",
       " ['12/30/1899 12:30:29 AM',\n",
       "  '12/30/1899 12:45:44 AM',\n",
       "  '12/30/1899 1:01:19 AM',\n",
       "  '12/30/1899 1:17:00 AM',\n",
       "  '12/30/1899 1:33:01 AM',\n",
       "  '12/30/1899 1:48:58 AM',\n",
       "  '12/30/1899 2:04:35 AM',\n",
       "  '12/30/1899 12:15:25 AM',\n",
       "  '32',\n",
       "  '21',\n",
       "  '7928',\n",
       "  'USA',\n",
       "  '7928',\n",
       "  '',\n",
       "  'Mammoth Lakes',\n",
       "  'USA',\n",
       "  '4',\n",
       "  '4',\n",
       "  '12/30/1899 1:04:45 AM',\n",
       "  'M',\n",
       "  'Biwott, Shadrack',\n",
       "  '1',\n",
       "  '12/30/1899 2:12:08 AM',\n",
       "  '4',\n",
       "  '12/30/1899 12:05:03 AM',\n",
       "  'CA']]"
      ]
     },
     "execution_count": 148,
     "metadata": {},
     "output_type": "execute_result"
    }
   ],
   "source": [
    "# Creating Function to open and read CSV data\n",
    "def open_csv(filepath, d = ','):\n",
    "    #initiate an empty dataset\n",
    "    data = []\n",
    "    with open(filepath, encoding = 'utf-8') as myData:\n",
    "        #use csv reader from docs to parse through comma sep values\n",
    "        info = csv.reader(myData, delimiter = d)\n",
    "        print(info)\n",
    "        \n",
    "        #loop over information and append to data list\n",
    "        for row in info:\n",
    "            data.append(row)\n",
    "    return data\n",
    "\n",
    "#our our function to open marathon 2017\n",
    "\n",
    "csv_data = open_csv('../files/boston_marathon2017_edited.csv')\n",
    "csv_data[1:5]"
   ]
  },
  {
   "cell_type": "markdown",
   "metadata": {},
   "source": [
    "#### Loading a CSV's Data "
   ]
  },
  {
   "cell_type": "code",
   "execution_count": 153,
   "metadata": {},
   "outputs": [
    {
     "name": "stdout",
     "output_type": "stream",
     "text": [
      "[b'Christian Vazquez' b'Mitch Moreland' b'Dustin Pedroia'\n",
      " b'Xander Bogaerts' b'Rafael Devers' b'Andrew Benintendi'\n",
      " b'Jackie Bradley Jr.' b'Mookie Betts' b'Hanley Ramirez' b'Sandy Leon'\n",
      " b'Chris Young' b'Deven Marrero' b'Eduardo Nunez' b'Brock Holt'\n",
      " b'Josh Rutledge' b'Pablo Sandoval' b'Sam Travis' b'Tzu-Wei Lin'\n",
      " b'Marco Hernandez' b'Rajai Davis' b'Steve Selsky' b'Blake Swihart'\n",
      " b\"Chase d'Arnaud\"]\n",
      "b'Christian Vazquez' had 94 hits\n",
      "b'Mitch Moreland' had 125 hits\n",
      "b'Dustin Pedroia' had 119 hits\n",
      "b'Xander Bogaerts' had 156 hits\n",
      "b'Rafael Devers' had 63 hits\n",
      "b'Andrew Benintendi' had 155 hits\n",
      "b'Jackie Bradley Jr.' had 118 hits\n",
      "b'Mookie Betts' had 166 hits\n",
      "b'Hanley Ramirez' had 120 hits\n",
      "b'Sandy Leon' had 61 hits\n",
      "b'Chris Young' had 57 hits\n",
      "b'Deven Marrero' had 36 hits\n",
      "b'Eduardo Nunez' had 53 hits\n",
      "b'Brock Holt' had 28 hits\n",
      "b'Josh Rutledge' had 24 hits\n",
      "b'Pablo Sandoval' had 21 hits\n",
      "b'Sam Travis' had 20 hits\n",
      "b'Tzu-Wei Lin' had 15 hits\n",
      "b'Marco Hernandez' had 16 hits\n",
      "b'Rajai Davis' had 9 hits\n",
      "b'Steve Selsky' had 1 hits\n",
      "b'Blake Swihart' had 1 hits\n",
      "b\"Chase d'Arnaud\" had 1 hits\n"
     ]
    }
   ],
   "source": [
    "FIELDS = ['Rk', 'Pos', 'Name', 'Age', 'G', 'PA', 'AB', 'R', 'H', '2B', '3B', 'HR', 'RBI', 'SB', 'CS', \n",
    "          'BB', 'SO', 'BA', 'OBP', 'SLG', 'OPS', 'OPS+', 'TB', 'GDP', 'HBP', 'SH', 'SF', 'IBB']\n",
    "\n",
    "# i = integer, f = float, |s25 = string with 25 characters\n",
    "DATATYPES = [('rk', 'i'), ('pos', '|S25'), ('name', '|S25'), ('age', 'i'), ('g', 'i'), ('pa', 'i'), ('ab', 'i'),\n",
    "                ('r', 'i'), ('h', 'i'), ('2b', 'i'), ('3b', 'i'), ('hr', 'i'), ('rbi', 'i'), ('sb', 'i'), ('cs', 'i'),\n",
    "                ('bb', 'i'), ('so', 'i'), ('ba', 'f'), ('obp', 'f'), ('slg', 'f'), ('ops', 'f'), ('opsp', 'i'),\n",
    "                ('tb', 'i'), ('gdp', 'i'), ('hbp', 'i'), ('sh', 'i'), ('sf', 'i'), ('ibb', 'i')]\n",
    "\n",
    "# instead of loading csv normally, let's load it into a numpy array to calculate results on\n",
    "\n",
    "def load_data(filename, d = ','):\n",
    "    data = np.genfromtxt(filename, delimiter = d, skip_header = 1,\n",
    "                        usecols = np.arange(0,23), invalid_raise = False,\n",
    "                        names = FIELDS, dtype = DATATYPES)\n",
    "    return data\n",
    "\n",
    "bs2017 = load_data('../files/redsox_2017_hitting.txt')\n",
    "bs2017\n",
    "\n",
    "names = bs2017['Name']\n",
    "hits = bs2017['H']\n",
    "print(names)\n",
    "\n",
    "for i in range(len(names)):\n",
    "    print(f'{names[i]} had {hits[i]} hits')\n",
    "    \n"
   ]
  },
  {
   "cell_type": "markdown",
   "metadata": {},
   "source": [
    "#### Summing the top 5 hitters for HR's"
   ]
  },
  {
   "cell_type": "code",
   "execution_count": 170,
   "metadata": {},
   "outputs": [
    {
     "name": "stdout",
     "output_type": "stream",
     "text": [
      "['Christian Vazquez', 'Mitch Moreland', 'Dustin Pedroia', 'Xander Bogaerts', 'Rafael Devers', 'Andrew Benintendi', 'Jackie Bradley Jr.', 'Mookie Betts', 'Hanley Ramirez', 'Sandy Leon', 'Chris Young', 'Deven Marrero', 'Eduardo Nunez', 'Brock Holt', 'Josh Rutledge', 'Pablo Sandoval', 'Sam Travis', 'Tzu-Wei Lin', 'Marco Hernandez', 'Rajai Davis', 'Steve Selsky', 'Blake Swihart', \"Chase d'Arnaud\"]\n",
      "[('Christian Vazquez', 5), ('Mitch Moreland', 22), ('Dustin Pedroia', 7), ('Xander Bogaerts', 10), ('Rafael Devers', 10), ('Andrew Benintendi', 20), ('Jackie Bradley Jr.', 17), ('Mookie Betts', 24), ('Hanley Ramirez', 23), ('Sandy Leon', 7), ('Chris Young', 7), ('Deven Marrero', 4), ('Eduardo Nunez', 8), ('Brock Holt', 0), ('Josh Rutledge', 0), ('Pablo Sandoval', 4), ('Sam Travis', 0), ('Tzu-Wei Lin', 0), ('Marco Hernandez', 0), ('Rajai Davis', 0), ('Steve Selsky', 0), ('Blake Swihart', 0), (\"Chase d'Arnaud\", 0)]\n",
      "[('Christian Vazquez', 5), ('Mitch Moreland', 22), ('Dustin Pedroia', 7), ('Xander Bogaerts', 10), ('Rafael Devers', 10), ('Andrew Benintendi', 20), ('Jackie Bradley Jr.', 17), ('Mookie Betts', 24), ('Hanley Ramirez', 23), ('Sandy Leon', 7), ('Chris Young', 7), ('Deven Marrero', 4), ('Eduardo Nunez', 8), ('Brock Holt', 0), ('Josh Rutledge', 0), ('Pablo Sandoval', 4), ('Sam Travis', 0), ('Tzu-Wei Lin', 0), ('Marco Hernandez', 0), ('Rajai Davis', 0), ('Steve Selsky', 0), ('Blake Swihart', 0), (\"Chase d'Arnaud\", 0)]\n"
     ]
    },
    {
     "data": {
      "text/plain": [
       "[('Mookie Betts', 24),\n",
       " ('Hanley Ramirez', 23),\n",
       " ('Mitch Moreland', 22),\n",
       " ('Andrew Benintendi', 20),\n",
       " ('Jackie Bradley Jr.', 17),\n",
       " ('Xander Bogaerts', 10)]"
      ]
     },
     "execution_count": 170,
     "metadata": {},
     "output_type": "execute_result"
    }
   ],
   "source": [
    "# find the top 5 hr hitters\n",
    "\n",
    "# Step 1: Get all HR data into a variable\n",
    "# Step 2: Get all Player Names\n",
    "# Step 3: Create new list for new_names (empty to start)\n",
    "# Step 4: Decode the player names into regular strings\n",
    "# Step 5: Grab all data and place inside of a zipped list\n",
    "# Step 6: Sort values based on HR data\n",
    "\n",
    "# Step 1\n",
    "home_runs = bs2017['HR']\n",
    "\n",
    "# Step 2\n",
    "player_names = bs2017['Name']\n",
    "\n",
    "# Step 3\n",
    "new_names = []\n",
    "\n",
    "# Step 4\n",
    "for name in player_names:\n",
    "    new_names.append(name.decode('utf-8'))\n",
    "\n",
    "\n",
    "print(new_names)\n",
    "\n",
    "# Step 5\n",
    "\n",
    "zipped_values = list(zip(new_names, home_runs))\n",
    "print(zipped_values)\n",
    "# for i in range(len(new_names)):\n",
    "#     zipped_values.append((new_names[i], home_runs[i]))\n",
    "print(zipped_values)\n",
    "\n",
    "# Step 6\n",
    "\n",
    "sorted_hr = sorted(zipped_values, key = lambda x: x[1], reverse=True)\n",
    "sorted_hr[0:6]"
   ]
  },
  {
   "cell_type": "markdown",
   "metadata": {
    "collapsed": true
   },
   "source": [
    "# Exercises To Complete.... <br>\n",
    "1 - Calculate the BMI (body mass index) on the two lists below using NDArrays.\n"
   ]
  },
  {
   "cell_type": "code",
   "execution_count": 8,
   "metadata": {},
   "outputs": [
    {
     "name": "stdout",
     "output_type": "stream",
     "text": [
      "[16.86620458 17.87755102 18.82562984 19.71450617 20.54794521 21.32943755\n",
      " 22.06222222]\n"
     ]
    }
   ],
   "source": [
    "import numpy as np\n",
    "# formula = weight / (height**2) * 730\n",
    "height = np.array([69, 70, 71, 72, 73, 74, 75])\n",
    "weight = np.array([110, 120, 130, 140, 150, 160, 170])\n",
    "\n",
    "# OUTPUT: [16.86620458 17.87755102 18.82562984 19.71450617 20.54794521 21.32943755\n",
    "# 22.06222222]\n",
    "result = weight / (height*height) * 730\n",
    "print(result)"
   ]
  },
  {
   "cell_type": "markdown",
   "metadata": {},
   "source": [
    "2 - Create a function that will take in two parameters and will create a random matrix based off of those parameters. Extra: Have additional parameters taken in that allow the user to choose the shape and data type of the matrix."
   ]
  },
  {
   "cell_type": "code",
   "execution_count": 23,
   "metadata": {},
   "outputs": [
    {
     "name": "stdout",
     "output_type": "stream",
     "text": [
      "Here is your random matrix of integers: \n",
      " [[12 29 32]\n",
      " [21 89 51]\n",
      " [17 35 91]\n",
      " [47 75 41]]\n",
      "\n",
      "Here is your random matrix of floating numbers: \n",
      " [[20.52783272 15.77693029  5.64716949  7.70511037  7.68481333]\n",
      " [15.06240963 12.79524252 18.26709336 14.78084178 25.26535688]\n",
      " [18.68845899 20.1408814   6.18823008 11.90225684  7.86360848]\n",
      " [20.94812282 18.51683092  8.8639557  12.8913426   6.81002749]\n",
      " [18.42766477 10.58116947  9.55186166 25.70315659 15.86698132]]\n"
     ]
    }
   ],
   "source": [
    "\"\"\"\n",
    "Example Result\n",
    "array([[14.21633515,  7.98846653,  9.64140715],\n",
    "       [ 6.30982234,  9.96414331,  8.43153688],\n",
    "       [14.73102068, 11.76072894, 14.23356121]])\n",
    "\"\"\"\n",
    "#def makeMatrix(low,high,shape,data_type = float): -- Example\n",
    "\n",
    "\n",
    "def makeMatrix(low, high, shape, data_type):\n",
    "    if data_type == 'int':\n",
    "        print('Here is your random matrix of integers: \\n %s' % np.random.randint(low, high, (shape)))\n",
    "    else:\n",
    "        print('\\nHere is your random matrix of floating numbers: \\n %s' % np.random.uniform(low, high, (shape)))\n",
    "        \n",
    "makeMatrix(3,96,(4,3),'int')\n",
    "makeMatrix(5,26,(5,5),'float')"
   ]
  },
  {
   "cell_type": "markdown",
   "metadata": {},
   "source": [
    "3 - Extra: Open and load the data in the two text files that have the Boston Red Sox hitting data for the past seasons. Compare the difference in the two years by putting the data into an NDArray and running a differencial operation on it. The column to look for will be SLG.\n",
    "Your output should display which year (either 2017 or 2018) was a better year based on SLG"
   ]
  },
  {
   "cell_type": "code",
   "execution_count": 25,
   "metadata": {},
   "outputs": [],
   "source": [
    "import csv\n",
    "import numpy as np\n",
    "\n",
    "#Test to make sure you have the correct data\n",
    "\n",
    "\n"
   ]
  },
  {
   "cell_type": "code",
   "execution_count": 89,
   "metadata": {},
   "outputs": [
    {
     "name": "stdout",
     "output_type": "stream",
     "text": [
      "Boston had a better SLG in 2018: 0.4466452533904354 compared to 0.3747122365857978\n",
      "None\n",
      "Boston had a better SLG in 2018: [0.404 0.443 0.392 0.403 0.482 0.424 0.402 0.459 0.429 0.354 0.387 0.333\n",
      " 0.539 0.243 0.262 0.354 0.342 0.339 0.328 0.306 0.222 0.2   1.   ]\n",
      "None\n"
     ]
    }
   ],
   "source": [
    "\"\"\"\n",
    "Example Result - Not the actual result\n",
    "Boston 18 had more SLG in 2018\n",
    "[0.404 0.443 0.392 0.403 0.482 0.424 0.402 0.459 0.429 0.354 0.387 0.333\n",
    " 0.539 0.243 0.262 0.354 0.342 0.339 0.328 0.306 0.222 0.2   1.   ]\n",
    "\"\"\"\n",
    "\n",
    "FIELDS = ['Rk', 'Pos', 'Name', 'Age', 'G', 'PA', 'AB', 'R', 'H', '2B', '3B', 'HR', 'RBI', 'SB', 'CS', \n",
    "          'BB', 'SO', 'BA', 'OBP', 'SLG', 'OPS', 'OPS+', 'TB', 'GDP', 'HBP', 'SH', 'SF', 'IBB']\n",
    "\n",
    "DATATYPES = [('rk', 'i'), ('pos', '|S25'), ('name', '|S25'), ('age', 'i'), ('g', 'i'), ('pa', 'i'), ('ab', 'i'),\n",
    "                ('r', 'i'), ('h', 'i'), ('2b', 'i'), ('3b', 'i'), ('hr', 'i'), ('rbi', 'i'), ('sb', 'i'), ('cs', 'i'),\n",
    "                ('bb', 'i'), ('so', 'i'), ('ba', 'f'), ('obp', 'f'), ('slg', 'f'), ('ops', 'f'), ('opsp', 'i'),\n",
    "                ('tb', 'i'), ('gdp', 'i'), ('hbp', 'i'), ('sh', 'i'), ('sf', 'i'), ('ibb', 'i')]\n",
    "\n",
    "#Use this function to actually open the data inside of a NDArray\n",
    "\n",
    "def load_data(filename, d = ','):\n",
    "    data = np.genfromtxt(filename, delimiter = d, skip_header = 1,\n",
    "                        usecols = np.arange(0,23), invalid_raise = False,\n",
    "                        names = FIELDS, dtype = DATATYPES)\n",
    "    return data\n",
    "\n",
    "bs2017 = load_data('../files/redsox_2017_hitting.txt')\n",
    "bs2018 = load_data('../files/redsox_2018_hitting.txt')\n",
    "\n",
    "#ONE method, based on the slg formula and total bases and attempts from data.\n",
    "check_ans = sum(bs2017['R'])+sum(bs2017['2B']*2)+sum(bs2017['3B']*3)+sum(bs2017['HR']*4)\n",
    "real_slg_2017=(check_ans/sum(bs2017['AB']))\n",
    "#print(real_slg_2017)\n",
    "\n",
    "check_ans2 = sum(bs2018['R'])+sum(bs2018['2B']*2)+sum(bs2018['3B']*3)+sum(bs2018['HR']*4)\n",
    "real_slg_2018=(check_ans2/sum(bs2018['AB']))\n",
    "#print(real_slg_2018)\n",
    "\n",
    "def better_slg1(year_1, year_2):\n",
    "    if year_1 > year_2:\n",
    "        print(f'Boston had a better SLG in 2017: {year_1} compared to {year_2}')\n",
    "    else:\n",
    "        print(f'Boston had a better SLG in 2018: {year_2} compared to {year_1}')\n",
    "\n",
    "print(better_slg1(real_slg_2017, real_slg_2018))\n",
    "                                \n",
    "    \n",
    "    \n",
    "#ANOTHER method, based on averaging individual slg per year, and based on example result given at top of cell.\n",
    "\n",
    "slg_2017 = bs2017['SLG']\n",
    "slg_2018 = bs2017['SLG']\n",
    "#print(slg_2018)\n",
    "# print(sum(slg_2017))\n",
    "# print(len(slg_2017))\n",
    "# print(sum(slg_2017)/len(slg_2017))\n",
    "\n",
    "def better_slg2(year_a, year_b):\n",
    "    \n",
    "    if sum(year_a) / len(year_a) > sum(year_b) / len(year_b):\n",
    "        print(f'Boston had a better SLG in 2017: {slg_2017}')\n",
    "    else:\n",
    "        print(f'Boston had a better SLG in 2018: {slg_2018}')\n",
    "print(better_slg(slg_2017, slg_2018))"
   ]
  },
  {
   "cell_type": "code",
   "execution_count": null,
   "metadata": {},
   "outputs": [],
   "source": []
  },
  {
   "cell_type": "code",
   "execution_count": null,
   "metadata": {},
   "outputs": [],
   "source": []
  }
 ],
 "metadata": {
  "kernelspec": {
   "display_name": "Python 3",
   "language": "python",
   "name": "python3"
  },
  "language_info": {
   "codemirror_mode": {
    "name": "ipython",
    "version": 3
   },
   "file_extension": ".py",
   "mimetype": "text/x-python",
   "name": "python",
   "nbconvert_exporter": "python",
   "pygments_lexer": "ipython3",
   "version": "3.8.8"
  }
 },
 "nbformat": 4,
 "nbformat_minor": 2
}
